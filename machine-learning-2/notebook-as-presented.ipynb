{
 "cells": [
  {
   "cell_type": "markdown",
   "metadata": {},
   "source": [
    "# COVID-self-test\n",
    "\n",
    "PCR  | self test pos | self test neg\n",
    "--------+------------+--------------\n",
    "pos  |           103 |            5\n",
    "neg  |             1 |          114"
   ]
  },
  {
   "cell_type": "code",
   "execution_count": 2,
   "metadata": {},
   "outputs": [
    {
     "name": "stdout",
     "output_type": "stream",
     "text": [
      "[[103   5]\n",
      " [  1 114]]\n"
     ]
    }
   ],
   "source": [
    "import numpy as np\n",
    "confusionmatrix = np.array ([[103, 5], [1, 114]])\n",
    "print(confusionmatrix)"
   ]
  },
  {
   "cell_type": "code",
   "execution_count": 4,
   "metadata": {},
   "outputs": [
    {
     "name": "stdout",
     "output_type": "stream",
     "text": [
      "0.9537037037037037\n",
      "0.991304347826087\n"
     ]
    }
   ],
   "source": [
    "sens, spec = np.diag(confusionmatrix) / np.sum(confusionmatrix,axis=1)\n",
    "print(sens)\n",
    "print(spec)"
   ]
  },
  {
   "cell_type": "code",
   "execution_count": 5,
   "metadata": {},
   "outputs": [
    {
     "name": "stdout",
     "output_type": "stream",
     "text": [
      "0.9903846153846154\n",
      "0.957983193277311\n"
     ]
    }
   ],
   "source": [
    "PPV, NPV = np.diag(confusionmatrix) / np.sum(confusionmatrix,axis=0)\n",
    "print(PPV)\n",
    "print(NPV)"
   ]
  },
  {
   "cell_type": "markdown",
   "metadata": {},
   "source": [
    "incidence 11.6 cases / (100 k inhabitants * week)\n"
   ]
  },
  {
   "cell_type": "code",
   "execution_count": 7,
   "metadata": {},
   "outputs": [
    {
     "name": "stdout",
     "output_type": "stream",
     "text": [
      "0.00018228571428571428\n",
      "5485.8934169279\n"
     ]
    }
   ],
   "source": [
    "incidence = 11.6 / 100000 / 7\n",
    "prob_true_pos = incidence * 3 + incidence * 8 \n",
    "print(prob_true_pos)\n",
    "print(1/prob_true_pos)"
   ]
  },
  {
   "cell_type": "code",
   "execution_count": 10,
   "metadata": {},
   "outputs": [
    {
     "name": "stdout",
     "output_type": "stream",
     "text": [
      "[[0.9537037  0.0462963 ]\n",
      " [0.00869565 0.99130435]]\n",
      "[[1.73846561e-04 8.43915344e-06]\n",
      " [8.69406708e-03 9.91123647e-01]]\n"
     ]
    }
   ],
   "source": [
    "confusionmatrix_incidence_corr = confusionmatrix / np.sum(confusionmatrix, axis=1, keepdims=True)\n",
    "print(confusionmatrix_incidence_corr)\n",
    "\n",
    "confusionmatrix_incidence_corr [0,:] *= prob_true_pos\n",
    "confusionmatrix_incidence_corr [1,:] *= (1-prob_true_pos)\n",
    "\n",
    "print(confusionmatrix_incidence_corr)"
   ]
  },
  {
   "cell_type": "code",
   "execution_count": 12,
   "metadata": {},
   "outputs": [
    {
     "name": "stdout",
     "output_type": "stream",
     "text": [
      "0.01960399794955076\n",
      "0.999991485339285\n"
     ]
    }
   ],
   "source": [
    "PPV, NPV = np.diag(confusionmatrix_incidence_corr) / np.sum(confusionmatrix_incidence_corr,axis=0)\n",
    "print(PPV)\n",
    "print(NPV)"
   ]
  },
  {
   "cell_type": "code",
   "execution_count": 13,
   "metadata": {},
   "outputs": [
    {
     "name": "stdout",
     "output_type": "stream",
     "text": [
      "109.67592592592656\n",
      "21.412173913043485\n"
     ]
    }
   ],
   "source": [
    "LR_pos = sens / (1 - spec)\n",
    "LR_neg = spec / (1 - sens)\n",
    "\n",
    "print(LR_pos)\n",
    "print(LR_neg)"
   ]
  },
  {
   "cell_type": "code",
   "execution_count": 16,
   "metadata": {},
   "outputs": [
    {
     "name": "stdout",
     "output_type": "stream",
     "text": [
      "[0.92428858 0.96657356]\n",
      "0.9537037037037037\n"
     ]
    }
   ],
   "source": [
    "import astropy.stats as ap\n",
    "print(ap.binom_conf_interval(confusionmatrix[0,0], sum(confusionmatrix[0,:]), interval='flat'))\n",
    "print(sens)"
   ]
  },
  {
   "cell_type": "code",
   "execution_count": 17,
   "metadata": {},
   "outputs": [
    {
     "name": "stdout",
     "output_type": "stream",
     "text": [
      ".. _digits_dataset:\n",
      "\n",
      "Optical recognition of handwritten digits dataset\n",
      "--------------------------------------------------\n",
      "\n",
      "**Data Set Characteristics:**\n",
      "\n",
      "    :Number of Instances: 1797\n",
      "    :Number of Attributes: 64\n",
      "    :Attribute Information: 8x8 image of integer pixels in the range 0..16.\n",
      "    :Missing Attribute Values: None\n",
      "    :Creator: E. Alpaydin (alpaydin '@' boun.edu.tr)\n",
      "    :Date: July; 1998\n",
      "\n",
      "This is a copy of the test set of the UCI ML hand-written digits datasets\n",
      "https://archive.ics.uci.edu/ml/datasets/Optical+Recognition+of+Handwritten+Digits\n",
      "\n",
      "The data set contains images of hand-written digits: 10 classes where\n",
      "each class refers to a digit.\n",
      "\n",
      "Preprocessing programs made available by NIST were used to extract\n",
      "normalized bitmaps of handwritten digits from a preprinted form. From a\n",
      "total of 43 people, 30 contributed to the training set and different 13\n",
      "to the test set. 32x32 bitmaps are divided into nonoverlapping blocks of\n",
      "4x4 and the number of on pixels are counted in each block. This generates\n",
      "an input matrix of 8x8 where each element is an integer in the range\n",
      "0..16. This reduces dimensionality and gives invariance to small\n",
      "distortions.\n",
      "\n",
      "For info on NIST preprocessing routines, see M. D. Garris, J. L. Blue, G.\n",
      "T. Candela, D. L. Dimmick, J. Geist, P. J. Grother, S. A. Janet, and C.\n",
      "L. Wilson, NIST Form-Based Handprint Recognition System, NISTIR 5469,\n",
      "1994.\n",
      "\n",
      ".. topic:: References\n",
      "\n",
      "  - C. Kaynak (1995) Methods of Combining Multiple Classifiers and Their\n",
      "    Applications to Handwritten Digit Recognition, MSc Thesis, Institute of\n",
      "    Graduate Studies in Science and Engineering, Bogazici University.\n",
      "  - E. Alpaydin, C. Kaynak (1998) Cascading Classifiers, Kybernetika.\n",
      "  - Ken Tang and Ponnuthurai N. Suganthan and Xi Yao and A. Kai Qin.\n",
      "    Linear dimensionalityreduction using relevance weighted LDA. School of\n",
      "    Electrical and Electronic Engineering Nanyang Technological University.\n",
      "    2005.\n",
      "  - Claudio Gentile. A New Approximate Maximal Margin Classification\n",
      "    Algorithm. NIPS. 2000.\n",
      "\n"
     ]
    }
   ],
   "source": [
    "from sklearn.datasets import load_digits\n",
    "digits = load_digits()\n",
    "print(digits[\"DESCR\"])"
   ]
  },
  {
   "cell_type": "code",
   "execution_count": 21,
   "metadata": {},
   "outputs": [],
   "source": [
    "data_train = digits[\"data\"]\n",
    "labels_train = digits[\"target\"]"
   ]
  },
  {
   "cell_type": "code",
   "execution_count": 23,
   "metadata": {},
   "outputs": [
    {
     "data": {
      "text/plain": [
       "GridSearchCV(cv=5, estimator=SVC(),\n",
       "             param_grid=[{'C': [0.01, 0.1, 1, 10, 100, 1000],\n",
       "                          'gamma': [0.1, 0.01, 0.001, 0.0001, 1e-05],\n",
       "                          'kernel': ['rbf']}])"
      ]
     },
     "execution_count": 23,
     "metadata": {},
     "output_type": "execute_result"
    }
   ],
   "source": [
    "from sklearn.svm import SVC\n",
    "\n",
    "from sklearn.model_selection import GridSearchCV\n",
    "\n",
    "C = [0.01, 0.1, 1, 10, 100, 1000]\n",
    "gamma = [0.1, 0.01, 0.001, 0.0001, 0.00001]\n",
    "\n",
    "param_grid = [{'C': C, 'gamma': gamma, 'kernel': ['rbf']}]\n",
    "gridsearch = GridSearchCV(cv = 5, estimator = SVC(), param_grid=param_grid)\n",
    "gridsearch.fit (data_train, labels_train)\n"
   ]
  },
  {
   "cell_type": "code",
   "execution_count": 24,
   "metadata": {},
   "outputs": [
    {
     "data": {
      "text/plain": [
       "{'mean_fit_time': array([0.3520462 , 0.33603873, 0.34554806, 0.34495354, 0.32992892,\n",
       "        0.40753255, 0.33301129, 0.18614674, 0.24083838, 0.32638721,\n",
       "        0.44362106, 0.41246457, 0.11132364, 0.0938251 , 0.2541616 ,\n",
       "        0.47905922, 0.41604385, 0.11304832, 0.05881462, 0.08946834,\n",
       "        0.48733592, 0.41449847, 0.11161671, 0.04661865, 0.04772673,\n",
       "        0.47816811, 0.41272178, 0.10454545, 0.05048041, 0.05151463]),\n",
       " 'std_fit_time': array([0.00659884, 0.01655112, 0.01189089, 0.00825579, 0.01268814,\n",
       "        0.00485824, 0.01607023, 0.01061732, 0.01073396, 0.00868871,\n",
       "        0.00914661, 0.021476  , 0.00887674, 0.00682889, 0.00658139,\n",
       "        0.02499605, 0.03271831, 0.00742854, 0.00605727, 0.00671395,\n",
       "        0.02295091, 0.02281365, 0.00581481, 0.00064539, 0.0044239 ,\n",
       "        0.02883233, 0.01154378, 0.008505  , 0.00224341, 0.002969  ]),\n",
       " 'mean_score_time': array([0.06462779, 0.06285577, 0.06766481, 0.06493435, 0.06305327,\n",
       "        0.05694122, 0.06363597, 0.04287114, 0.06024508, 0.06144037,\n",
       "        0.06527262, 0.06602626, 0.02908764, 0.04125171, 0.0625556 ,\n",
       "        0.06282344, 0.06271782, 0.03303275, 0.02267685, 0.04151311,\n",
       "        0.06697016, 0.06143155, 0.0366508 , 0.01859131, 0.02016835,\n",
       "        0.06441526, 0.06755214, 0.03186998, 0.02011323, 0.01559925]),\n",
       " 'std_score_time': array([0.00670051, 0.00606756, 0.0053679 , 0.00699924, 0.0039401 ,\n",
       "        0.00308828, 0.00546028, 0.00439652, 0.00474097, 0.0065653 ,\n",
       "        0.00444327, 0.00413793, 0.00356963, 0.00578971, 0.00493323,\n",
       "        0.00493668, 0.0072545 , 0.00478575, 0.00170764, 0.00438626,\n",
       "        0.00339182, 0.00495615, 0.00482852, 0.00246084, 0.00194442,\n",
       "        0.00746126, 0.0068898 , 0.00501457, 0.00303077, 0.00118411]),\n",
       " 'param_C': masked_array(data=[0.01, 0.01, 0.01, 0.01, 0.01, 0.1, 0.1, 0.1, 0.1, 0.1,\n",
       "                    1, 1, 1, 1, 1, 10, 10, 10, 10, 10, 100, 100, 100, 100,\n",
       "                    100, 1000, 1000, 1000, 1000, 1000],\n",
       "              mask=[False, False, False, False, False, False, False, False,\n",
       "                    False, False, False, False, False, False, False, False,\n",
       "                    False, False, False, False, False, False, False, False,\n",
       "                    False, False, False, False, False, False],\n",
       "        fill_value='?',\n",
       "             dtype=object),\n",
       " 'param_gamma': masked_array(data=[0.1, 0.01, 0.001, 0.0001, 1e-05, 0.1, 0.01, 0.001,\n",
       "                    0.0001, 1e-05, 0.1, 0.01, 0.001, 0.0001, 1e-05, 0.1,\n",
       "                    0.01, 0.001, 0.0001, 1e-05, 0.1, 0.01, 0.001, 0.0001,\n",
       "                    1e-05, 0.1, 0.01, 0.001, 0.0001, 1e-05],\n",
       "              mask=[False, False, False, False, False, False, False, False,\n",
       "                    False, False, False, False, False, False, False, False,\n",
       "                    False, False, False, False, False, False, False, False,\n",
       "                    False, False, False, False, False, False],\n",
       "        fill_value='?',\n",
       "             dtype=object),\n",
       " 'param_kernel': masked_array(data=['rbf', 'rbf', 'rbf', 'rbf', 'rbf', 'rbf', 'rbf', 'rbf',\n",
       "                    'rbf', 'rbf', 'rbf', 'rbf', 'rbf', 'rbf', 'rbf', 'rbf',\n",
       "                    'rbf', 'rbf', 'rbf', 'rbf', 'rbf', 'rbf', 'rbf', 'rbf',\n",
       "                    'rbf', 'rbf', 'rbf', 'rbf', 'rbf', 'rbf'],\n",
       "              mask=[False, False, False, False, False, False, False, False,\n",
       "                    False, False, False, False, False, False, False, False,\n",
       "                    False, False, False, False, False, False, False, False,\n",
       "                    False, False, False, False, False, False],\n",
       "        fill_value='?',\n",
       "             dtype=object),\n",
       " 'params': [{'C': 0.01, 'gamma': 0.1, 'kernel': 'rbf'},\n",
       "  {'C': 0.01, 'gamma': 0.01, 'kernel': 'rbf'},\n",
       "  {'C': 0.01, 'gamma': 0.001, 'kernel': 'rbf'},\n",
       "  {'C': 0.01, 'gamma': 0.0001, 'kernel': 'rbf'},\n",
       "  {'C': 0.01, 'gamma': 1e-05, 'kernel': 'rbf'},\n",
       "  {'C': 0.1, 'gamma': 0.1, 'kernel': 'rbf'},\n",
       "  {'C': 0.1, 'gamma': 0.01, 'kernel': 'rbf'},\n",
       "  {'C': 0.1, 'gamma': 0.001, 'kernel': 'rbf'},\n",
       "  {'C': 0.1, 'gamma': 0.0001, 'kernel': 'rbf'},\n",
       "  {'C': 0.1, 'gamma': 1e-05, 'kernel': 'rbf'},\n",
       "  {'C': 1, 'gamma': 0.1, 'kernel': 'rbf'},\n",
       "  {'C': 1, 'gamma': 0.01, 'kernel': 'rbf'},\n",
       "  {'C': 1, 'gamma': 0.001, 'kernel': 'rbf'},\n",
       "  {'C': 1, 'gamma': 0.0001, 'kernel': 'rbf'},\n",
       "  {'C': 1, 'gamma': 1e-05, 'kernel': 'rbf'},\n",
       "  {'C': 10, 'gamma': 0.1, 'kernel': 'rbf'},\n",
       "  {'C': 10, 'gamma': 0.01, 'kernel': 'rbf'},\n",
       "  {'C': 10, 'gamma': 0.001, 'kernel': 'rbf'},\n",
       "  {'C': 10, 'gamma': 0.0001, 'kernel': 'rbf'},\n",
       "  {'C': 10, 'gamma': 1e-05, 'kernel': 'rbf'},\n",
       "  {'C': 100, 'gamma': 0.1, 'kernel': 'rbf'},\n",
       "  {'C': 100, 'gamma': 0.01, 'kernel': 'rbf'},\n",
       "  {'C': 100, 'gamma': 0.001, 'kernel': 'rbf'},\n",
       "  {'C': 100, 'gamma': 0.0001, 'kernel': 'rbf'},\n",
       "  {'C': 100, 'gamma': 1e-05, 'kernel': 'rbf'},\n",
       "  {'C': 1000, 'gamma': 0.1, 'kernel': 'rbf'},\n",
       "  {'C': 1000, 'gamma': 0.01, 'kernel': 'rbf'},\n",
       "  {'C': 1000, 'gamma': 0.001, 'kernel': 'rbf'},\n",
       "  {'C': 1000, 'gamma': 0.0001, 'kernel': 'rbf'},\n",
       "  {'C': 1000, 'gamma': 1e-05, 'kernel': 'rbf'}],\n",
       " 'split0_test_score': array([0.1       , 0.1       , 0.11111111, 0.1       , 0.1       ,\n",
       "        0.1       , 0.1       , 0.94166667, 0.87777778, 0.1       ,\n",
       "        0.1       , 0.675     , 0.975     , 0.93611111, 0.88888889,\n",
       "        0.1       , 0.69722222, 0.97777778, 0.97222222, 0.93333333,\n",
       "        0.1       , 0.69722222, 0.97777778, 0.975     , 0.96111111,\n",
       "        0.1       , 0.69722222, 0.97777778, 0.975     , 0.96388889]),\n",
       " 'split1_test_score': array([0.1       , 0.1       , 0.12777778, 0.1       , 0.1       ,\n",
       "        0.1       , 0.1       , 0.92222222, 0.85277778, 0.1       ,\n",
       "        0.1       , 0.60555556, 0.95      , 0.93333333, 0.85277778,\n",
       "        0.1       , 0.61944444, 0.95      , 0.93055556, 0.93333333,\n",
       "        0.1       , 0.61944444, 0.95      , 0.93888889, 0.92777778,\n",
       "        0.1       , 0.61944444, 0.95      , 0.93888889, 0.91944444]),\n",
       " 'split2_test_score': array([0.10306407, 0.11420613, 0.20891365, 0.20334262, 0.20334262,\n",
       "        0.10306407, 0.11420613, 0.96100279, 0.8913649 , 0.20334262,\n",
       "        0.10584958, 0.71030641, 0.98328691, 0.96935933, 0.8913649 ,\n",
       "        0.10584958, 0.71866295, 0.98328691, 0.97771588, 0.96657382,\n",
       "        0.10584958, 0.71866295, 0.98328691, 0.96657382, 0.97771588,\n",
       "        0.10584958, 0.71866295, 0.98328691, 0.96657382, 0.9637883 ]),\n",
       " 'split3_test_score': array([0.10306407, 0.1281337 , 0.2005571 , 0.19777159, 0.19777159,\n",
       "        0.10306407, 0.1281337 , 0.97493036, 0.93036212, 0.19777159,\n",
       "        0.10306407, 0.75208914, 0.99164345, 0.98050139, 0.93871866,\n",
       "        0.10306407, 0.75766017, 0.98607242, 0.98607242, 0.98050139,\n",
       "        0.10306407, 0.75766017, 0.98607242, 0.98328691, 0.97493036,\n",
       "        0.10306407, 0.75766017, 0.98607242, 0.98328691, 0.96657382]),\n",
       " 'split4_test_score': array([0.10306407, 0.14763231, 0.21727019, 0.18941504, 0.18941504,\n",
       "        0.10306407, 0.14763231, 0.91643454, 0.84958217, 0.18941504,\n",
       "        0.10584958, 0.73537604, 0.96100279, 0.91643454, 0.8551532 ,\n",
       "        0.10306407, 0.74094708, 0.9637883 , 0.93314763, 0.91364903,\n",
       "        0.10306407, 0.74094708, 0.9637883 , 0.94707521, 0.93871866,\n",
       "        0.10306407, 0.74094708, 0.9637883 , 0.94707521, 0.93036212]),\n",
       " 'mean_test_score': array([0.10183844, 0.11799443, 0.17312597, 0.15810585, 0.15810585,\n",
       "        0.10183844, 0.11799443, 0.94325132, 0.88037295, 0.15810585,\n",
       "        0.10295265, 0.69566543, 0.97218663, 0.94714794, 0.88538069,\n",
       "        0.10239554, 0.70678737, 0.97218508, 0.95994274, 0.94547818,\n",
       "        0.10239554, 0.70678737, 0.97218508, 0.96216496, 0.95605076,\n",
       "        0.10239554, 0.70678737, 0.97218508, 0.96216496, 0.94881151]),\n",
       " 'std_test_score': array([0.00150108, 0.01812821, 0.04446176, 0.04764993, 0.04764993,\n",
       "        0.00150108, 0.01812821, 0.0222825 , 0.0294484 , 0.04764993,\n",
       "        0.00261661, 0.05200341, 0.01501349, 0.02392391, 0.03120804,\n",
       "        0.00220461, 0.04820007, 0.01349126, 0.02337099, 0.02441205,\n",
       "        0.00220461, 0.04820007, 0.01349126, 0.01673194, 0.01975443,\n",
       "        0.00220461, 0.04820007, 0.01349126, 0.01673194, 0.01984911]),\n",
       " 'rank_test_score': array([29, 23, 19, 20, 20, 29, 23, 12, 14, 20, 25, 18,  1, 10, 13, 26, 15,\n",
       "         2,  7, 11, 26, 15,  2,  5,  8, 26, 15,  2,  5,  9], dtype=int32)}"
      ]
     },
     "execution_count": 24,
     "metadata": {},
     "output_type": "execute_result"
    }
   ],
   "source": [
    "gridsearch.cv_results_"
   ]
  },
  {
   "cell_type": "code",
   "execution_count": 26,
   "metadata": {},
   "outputs": [
    {
     "name": "stdout",
     "output_type": "stream",
     "text": [
      "[[0.10183844 0.11799443 0.17312597 0.15810585 0.15810585]\n",
      " [0.10183844 0.11799443 0.94325132 0.88037295 0.15810585]\n",
      " [0.10295265 0.69566543 0.97218663 0.94714794 0.88538069]\n",
      " [0.10239554 0.70678737 0.97218508 0.95994274 0.94547818]\n",
      " [0.10239554 0.70678737 0.97218508 0.96216496 0.95605076]\n",
      " [0.10239554 0.70678737 0.97218508 0.96216496 0.94881151]]\n",
      "[[0.00150108 0.01812821 0.04446176 0.04764993 0.04764993]\n",
      " [0.00150108 0.01812821 0.0222825  0.0294484  0.04764993]\n",
      " [0.00261661 0.05200341 0.01501349 0.02392391 0.03120804]\n",
      " [0.00220461 0.04820007 0.01349126 0.02337099 0.02441205]\n",
      " [0.00220461 0.04820007 0.01349126 0.01673194 0.01975443]\n",
      " [0.00220461 0.04820007 0.01349126 0.01673194 0.01984911]]\n"
     ]
    }
   ],
   "source": [
    "mean_score = gridsearch.cv_results_ [\"mean_test_score\"].reshape(len(C), len(gamma))\n",
    "print(mean_score)\n",
    "std_score = gridsearch.cv_results_ [\"std_test_score\"].reshape(len(C), len(gamma))\n",
    "print(std_score)\n"
   ]
  },
  {
   "cell_type": "code",
   "execution_count": 28,
   "metadata": {},
   "outputs": [
    {
     "data": {
      "text/plain": [
       "<matplotlib.image.AxesImage at 0x7f466b37abb0>"
      ]
     },
     "execution_count": 28,
     "metadata": {},
     "output_type": "execute_result"
    },
    {
     "data": {
      "image/png": "[encoded data removed]",
      "text/plain": [
       "<Figure size 288x345.6 with 1 Axes>"
      ]
     },
     "metadata": {
      "needs_background": "light"
     },
     "output_type": "display_data"
    },
    {
     "data": {
      "image/png": "[encoded data removed]",
      "text/plain": [
       "<Figure size 288x345.6 with 1 Axes>"
      ]
     },
     "metadata": {
      "needs_background": "light"
     },
     "output_type": "display_data"
    }
   ],
   "source": [
    "import matplotlib.pyplot as plt\n",
    "\n",
    "mean_plot = plt.matshow (mean_score)\n",
    "plt.matshow (std_score)"
   ]
  },
  {
   "cell_type": "code",
   "execution_count": 32,
   "metadata": {},
   "outputs": [],
   "source": [
    "import numpy as np\n",
    "def true_fun(X):\n",
    "    return np.cos (1.5*np.pi*X)\n",
    "\n",
    "X_finegrid = np.linspace(0,1,100)\n"
   ]
  },
  {
   "cell_type": "code",
   "execution_count": 36,
   "metadata": {},
   "outputs": [],
   "source": [
    "np.random.seed(0)\n",
    "n_samples = 30\n",
    "\n",
    "X = np.sort(np.random.rand(n_samples))\n",
    "y = true_fun(X) + np.random.randn(n_samples) * 0.1\n",
    "\n",
    "X_test = np.sort(np.random.rand(n_samples))\n",
    "y_test = true_fun(X_test) + np.random.randn(n_samples) * 0.1"
   ]
  },
  {
   "cell_type": "code",
   "execution_count": 39,
   "metadata": {},
   "outputs": [
    {
     "data": {
      "text/plain": [
       "[<matplotlib.lines.Line2D at 0x7f466b1f4a00>]"
      ]
     },
     "execution_count": 39,
     "metadata": {},
     "output_type": "execute_result"
    },
    {
     "data": {
      "image/png": "[encoded data removed]",
      "text/plain": [
       "<Figure size 432x288 with 1 Axes>"
      ]
     },
     "metadata": {
      "needs_background": "light"
     },
     "output_type": "display_data"
    }
   ],
   "source": [
    "plt.scatter(X, y)\n",
    "plt.scatter(X_test, y_test, color = 'r')\n",
    "plt.plot(X_finegrid, true_fun(X_finegrid))"
   ]
  },
  {
   "cell_type": "code",
   "execution_count": null,
   "metadata": {},
   "outputs": [],
   "source": []
  },
  {
   "cell_type": "code",
   "execution_count": 58,
   "metadata": {},
   "outputs": [
    {
     "data": {
      "text/plain": [
       "(-1.5, 2)"
      ]
     },
     "execution_count": 58,
     "metadata": {},
     "output_type": "execute_result"
    },
    {
     "data": {
      "image/png": "[encoded data removed]",
      "text/plain": [
       "<Figure size 432x288 with 1 Axes>"
      ]
     },
     "metadata": {
      "needs_background": "light"
     },
     "output_type": "display_data"
    }
   ],
   "source": [
    "from sklearn.pipeline import Pipeline\n",
    "from sklearn.preprocessing import PolynomialFeatures\n",
    "from sklearn.linear_model import LinearRegression\n",
    "from sklearn.metrics import mean_squared_error\n",
    "from math import sqrt\n",
    "\n",
    "\n",
    "polynomial_features = PolynomialFeatures(degree = 14, include_bias = False) \n",
    "\n",
    "pipeline = Pipeline ([(\"polynomial features\", polynomial_features),\n",
    "                      (\"linear regression\", LinearRegression())])\n",
    "\n",
    "pipeline.fit (X [:, np.newaxis], y)\n",
    "\n",
    "y_pred = pipeline.predict(X_test[:, np.newaxis])\n",
    "\n",
    "plt.scatter(X, y)\n",
    "plt.scatter(X_test, y_test, color = 'r')\n",
    "plt.plot(X_finegrid, true_fun(X_finegrid))\n",
    "plt.scatter(X_test, y_pred, color = \"orange\")\n",
    "plt.plot(X_finegrid, pipeline.predict(X_finegrid[:, np.newaxis]), color = \"orange\")\n",
    "\n",
    "sqrt(mean_squared_error(y_test, y_pred))\n",
    "plt.ylim(-1.5,2)\n"
   ]
  }
 ],
 "metadata": {
  "kernelspec": {
   "display_name": "Python 3",
   "language": "python",
   "name": "python3"
  },
  "language_info": {
   "codemirror_mode": {
    "name": "ipython",
    "version": 3
   },
   "file_extension": ".py",
   "mimetype": "text/x-python",
   "name": "python",
   "nbconvert_exporter": "python",
   "pygments_lexer": "ipython3",
   "version": "3.8.5"
  }
 },
 "nbformat": 4,
 "nbformat_minor": 4
}
